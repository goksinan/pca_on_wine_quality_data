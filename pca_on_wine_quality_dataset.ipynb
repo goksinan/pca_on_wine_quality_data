{
 "cells": [
  {
   "cell_type": "markdown",
   "metadata": {},
   "source": [
    "# Unsupervised learning (principal component analysis)"
   ]
  },
  {
   "cell_type": "markdown",
   "metadata": {},
   "source": [
    "### Data science question: Find out which features of wine are important to determine quality"
   ]
  },
  {
   "cell_type": "markdown",
   "metadata": {},
   "source": [
    "We will use the Wine Quality Data Set for red wines created by P. Cortez et al. It has 11 variables and 1600 observations."
   ]
  },
  {
   "cell_type": "markdown",
   "metadata": {},
   "source": [
    "Steps to be taken from a _data science_ perspective:\n",
    "\n",
    "1. *Set the research goal:* We want to explain what properties of wine define the quality.\n",
    "2. *Acquire data:* We will download the data set from a repository.\n",
    "3. *Prepare data:* We will prepare data for the analysis\n",
    "4. *Build model:* Build machine learning model you want to use for data analysis"
   ]
  },
  {
   "cell_type": "markdown",
   "metadata": {},
   "source": [
    "### 1. Research goal"
   ]
  },
  {
   "cell_type": "markdown",
   "metadata": {},
   "source": [
    "We want to investigate what properties of wine define its quality.\n",
    "\n",
    "We also want to see which of those properties are required to predict the quality of wine. This way we can safely ignore the unnecessary information next time we collect new data."
   ]
  },
  {
   "cell_type": "markdown",
   "metadata": {},
   "source": [
    "### 2. Acquire data"
   ]
  },
  {
   "cell_type": "code",
   "execution_count": 1,
   "metadata": {},
   "outputs": [],
   "source": [
    "import numpy as np\n",
    "import pandas as pd"
   ]
  },
  {
   "cell_type": "code",
   "execution_count": 2,
   "metadata": {},
   "outputs": [],
   "source": [
    "url = 'http://archive.ics.uci.edu/ml/machine-learning-databases/wine-quality/winequality-red.csv'"
   ]
  },
  {
   "cell_type": "code",
   "execution_count": 3,
   "metadata": {},
   "outputs": [],
   "source": [
    "data = pd.read_csv(url, sep=\";\")"
   ]
  },
  {
   "cell_type": "markdown",
   "metadata": {},
   "source": [
    "Let's see the first few rows of the dataset:"
   ]
  },
  {
   "cell_type": "code",
   "execution_count": 4,
   "metadata": {},
   "outputs": [
    {
     "data": {
      "text/html": [
       "<div>\n",
       "<style scoped>\n",
       "    .dataframe tbody tr th:only-of-type {\n",
       "        vertical-align: middle;\n",
       "    }\n",
       "\n",
       "    .dataframe tbody tr th {\n",
       "        vertical-align: top;\n",
       "    }\n",
       "\n",
       "    .dataframe thead th {\n",
       "        text-align: right;\n",
       "    }\n",
       "</style>\n",
       "<table border=\"1\" class=\"dataframe\">\n",
       "  <thead>\n",
       "    <tr style=\"text-align: right;\">\n",
       "      <th></th>\n",
       "      <th>fixed acidity</th>\n",
       "      <th>volatile acidity</th>\n",
       "      <th>citric acid</th>\n",
       "      <th>residual sugar</th>\n",
       "      <th>chlorides</th>\n",
       "      <th>free sulfur dioxide</th>\n",
       "      <th>total sulfur dioxide</th>\n",
       "      <th>density</th>\n",
       "      <th>pH</th>\n",
       "      <th>sulphates</th>\n",
       "      <th>alcohol</th>\n",
       "      <th>quality</th>\n",
       "    </tr>\n",
       "  </thead>\n",
       "  <tbody>\n",
       "    <tr>\n",
       "      <th>0</th>\n",
       "      <td>7.4</td>\n",
       "      <td>0.70</td>\n",
       "      <td>0.00</td>\n",
       "      <td>1.9</td>\n",
       "      <td>0.076</td>\n",
       "      <td>11.0</td>\n",
       "      <td>34.0</td>\n",
       "      <td>0.9978</td>\n",
       "      <td>3.51</td>\n",
       "      <td>0.56</td>\n",
       "      <td>9.4</td>\n",
       "      <td>5</td>\n",
       "    </tr>\n",
       "    <tr>\n",
       "      <th>1</th>\n",
       "      <td>7.8</td>\n",
       "      <td>0.88</td>\n",
       "      <td>0.00</td>\n",
       "      <td>2.6</td>\n",
       "      <td>0.098</td>\n",
       "      <td>25.0</td>\n",
       "      <td>67.0</td>\n",
       "      <td>0.9968</td>\n",
       "      <td>3.20</td>\n",
       "      <td>0.68</td>\n",
       "      <td>9.8</td>\n",
       "      <td>5</td>\n",
       "    </tr>\n",
       "    <tr>\n",
       "      <th>2</th>\n",
       "      <td>7.8</td>\n",
       "      <td>0.76</td>\n",
       "      <td>0.04</td>\n",
       "      <td>2.3</td>\n",
       "      <td>0.092</td>\n",
       "      <td>15.0</td>\n",
       "      <td>54.0</td>\n",
       "      <td>0.9970</td>\n",
       "      <td>3.26</td>\n",
       "      <td>0.65</td>\n",
       "      <td>9.8</td>\n",
       "      <td>5</td>\n",
       "    </tr>\n",
       "    <tr>\n",
       "      <th>3</th>\n",
       "      <td>11.2</td>\n",
       "      <td>0.28</td>\n",
       "      <td>0.56</td>\n",
       "      <td>1.9</td>\n",
       "      <td>0.075</td>\n",
       "      <td>17.0</td>\n",
       "      <td>60.0</td>\n",
       "      <td>0.9980</td>\n",
       "      <td>3.16</td>\n",
       "      <td>0.58</td>\n",
       "      <td>9.8</td>\n",
       "      <td>6</td>\n",
       "    </tr>\n",
       "    <tr>\n",
       "      <th>4</th>\n",
       "      <td>7.4</td>\n",
       "      <td>0.70</td>\n",
       "      <td>0.00</td>\n",
       "      <td>1.9</td>\n",
       "      <td>0.076</td>\n",
       "      <td>11.0</td>\n",
       "      <td>34.0</td>\n",
       "      <td>0.9978</td>\n",
       "      <td>3.51</td>\n",
       "      <td>0.56</td>\n",
       "      <td>9.4</td>\n",
       "      <td>5</td>\n",
       "    </tr>\n",
       "  </tbody>\n",
       "</table>\n",
       "</div>"
      ],
      "text/plain": [
       "   fixed acidity  volatile acidity  citric acid  residual sugar  chlorides  \\\n",
       "0            7.4              0.70         0.00             1.9      0.076   \n",
       "1            7.8              0.88         0.00             2.6      0.098   \n",
       "2            7.8              0.76         0.04             2.3      0.092   \n",
       "3           11.2              0.28         0.56             1.9      0.075   \n",
       "4            7.4              0.70         0.00             1.9      0.076   \n",
       "\n",
       "   free sulfur dioxide  total sulfur dioxide  density    pH  sulphates  \\\n",
       "0                 11.0                  34.0   0.9978  3.51       0.56   \n",
       "1                 25.0                  67.0   0.9968  3.20       0.68   \n",
       "2                 15.0                  54.0   0.9970  3.26       0.65   \n",
       "3                 17.0                  60.0   0.9980  3.16       0.58   \n",
       "4                 11.0                  34.0   0.9978  3.51       0.56   \n",
       "\n",
       "   alcohol  quality  \n",
       "0      9.4        5  \n",
       "1      9.8        5  \n",
       "2      9.8        5  \n",
       "3      9.8        6  \n",
       "4      9.4        5  "
      ]
     },
     "execution_count": 4,
     "metadata": {},
     "output_type": "execute_result"
    }
   ],
   "source": [
    "data.head()"
   ]
  },
  {
   "cell_type": "markdown",
   "metadata": {},
   "source": [
    "### 3. Prepare data"
   ]
  },
  {
   "cell_type": "markdown",
   "metadata": {},
   "source": [
    "The last column is the target variable. We will use the rest as predictor variables. Slice from first column to one before the last."
   ]
  },
  {
   "cell_type": "code",
   "execution_count": 5,
   "metadata": {},
   "outputs": [],
   "source": [
    "X = data.loc[:,'fixed acidity':'alcohol']\n",
    "y = data['quality']"
   ]
  },
  {
   "cell_type": "markdown",
   "metadata": {},
   "source": [
    "Double check:"
   ]
  },
  {
   "cell_type": "code",
   "execution_count": 6,
   "metadata": {},
   "outputs": [
    {
     "data": {
      "text/plain": [
       "Index(['fixed acidity', 'volatile acidity', 'citric acid', 'residual sugar',\n",
       "       'chlorides', 'free sulfur dioxide', 'total sulfur dioxide', 'density',\n",
       "       'pH', 'sulphates', 'alcohol'],\n",
       "      dtype='object')"
      ]
     },
     "execution_count": 6,
     "metadata": {},
     "output_type": "execute_result"
    }
   ],
   "source": [
    "X.columns # X is a pandas data frame"
   ]
  },
  {
   "cell_type": "code",
   "execution_count": 7,
   "metadata": {},
   "outputs": [
    {
     "data": {
      "text/plain": [
       "'quality'"
      ]
     },
     "execution_count": 7,
     "metadata": {},
     "output_type": "execute_result"
    }
   ],
   "source": [
    "y.name # y is a pandas series"
   ]
  },
  {
   "cell_type": "markdown",
   "metadata": {},
   "source": [
    "Before performing PCA, the dataset has to be standardized (i.e. subtracting mean, dividing by the standard deviation) The scikit-learn PCA package probably performs this internally, but we will do it anyway."
   ]
  },
  {
   "cell_type": "code",
   "execution_count": 8,
   "metadata": {},
   "outputs": [
    {
     "data": {
      "text/plain": [
       "StandardScaler(copy=True, with_mean=True, with_std=True)"
      ]
     },
     "execution_count": 8,
     "metadata": {},
     "output_type": "execute_result"
    }
   ],
   "source": [
    "from sklearn import preprocessing \n",
    "\n",
    "scaler = preprocessing.StandardScaler().fit(X)\n",
    "scaler"
   ]
  },
  {
   "cell_type": "markdown",
   "metadata": {},
   "source": [
    "We can see the mean and STD of each variable used for standardization:"
   ]
  },
  {
   "cell_type": "code",
   "execution_count": 28,
   "metadata": {},
   "outputs": [
    {
     "name": "stdout",
     "output_type": "stream",
     "text": [
      "Mean of each variable:\n",
      "[ 8.31963727  0.52782051  0.27097561  2.5388055   0.08746654 15.87492183\n",
      " 46.46779237  0.99674668  3.3111132   0.65814884 10.42298311]\n",
      "\n",
      "Std of each variable:\n",
      "[1.74055180e+00 1.79003704e-01 1.94740214e-01 1.40948711e+00\n",
      " 4.70505826e-02 1.04568856e+01 3.28850367e+01 1.88674370e-03\n",
      " 1.54338181e-01 1.69453967e-01 1.06533430e+00]\n"
     ]
    }
   ],
   "source": [
    "print('Mean of each variable:')\n",
    "print(scaler.mean_)\n",
    "print('\\nStd of each variable:')\n",
    "print(scaler.scale_)"
   ]
  },
  {
   "cell_type": "markdown",
   "metadata": {},
   "source": [
    "Perform transformation:"
   ]
  },
  {
   "cell_type": "code",
   "execution_count": 13,
   "metadata": {},
   "outputs": [],
   "source": [
    "X = scaler.transform(X)"
   ]
  },
  {
   "cell_type": "markdown",
   "metadata": {},
   "source": [
    "### 4a. Model selection - initial inspection"
   ]
  },
  {
   "cell_type": "markdown",
   "metadata": {},
   "source": [
    "We want to use PCA and take a closer look at the latent variables."
   ]
  },
  {
   "cell_type": "code",
   "execution_count": 14,
   "metadata": {},
   "outputs": [],
   "source": [
    "from sklearn.decomposition import PCA\n",
    "\n",
    "pca = PCA() # creates an instance of PCA class\n",
    "results = pca.fit(X) # applies PCA on predictor variables\n",
    "Z = results.transform(X) # create a new array of latent variables"
   ]
  },
  {
   "cell_type": "code",
   "execution_count": 16,
   "metadata": {},
   "outputs": [
    {
     "data": {
      "image/png": "[encoded data removed]",
      "text/plain": [
       "<Figure size 432x288 with 1 Axes>"
      ]
     },
     "metadata": {},
     "output_type": "display_data"
    }
   ],
   "source": [
    "import matplotlib.pyplot as plt\n",
    "%matplotlib inline\n",
    "\n",
    "import seaborn as sns\n",
    "sns.set()\n",
    "\n",
    "\n",
    "plt.plot(results.explained_variance_ratio_*100) # scree plot\n",
    "plt.show()"
   ]
  },
  {
   "cell_type": "markdown",
   "metadata": {},
   "source": [
    "The above is called a __scree plot__. It shows the variances explained by each latent variable. The first component explains approx. 28% of the variance in the whole dataset.\n",
    "\n",
    "Ideally, we would like to see an __elbow shape__ in order to decide which PCs to keep and which ones to disregard. In practice, this rarely happens. Most of the time, we use enough PCs so that they explain 95% or 99% of the variation in the data."
   ]
  },
  {
   "cell_type": "markdown",
   "metadata": {},
   "source": [
    "By examining the above figure, we can conclude that first 6 variables contain most of the information inside the data."
   ]
  },
  {
   "cell_type": "markdown",
   "metadata": {},
   "source": [
    "### Interpret the results (what do the first 6 PCs represent?)"
   ]
  },
  {
   "cell_type": "markdown",
   "metadata": {},
   "source": [
    "Once we apply the PCA, we are no longer in our familiar domain. We are in a different domain in which the latents are the linear combinations of the original variables, but they don't represent any meaningful properties. Thus, it is impossible to interpret them by themselves.\n",
    "\n",
    "We usually look at the correlation between the latent variable and original variables. If any of the original variables correlate well with the first few PCs, we usually conclude that the PCs are mainly influenced by the said variables, thus they must be the important ones.\n",
    "\n",
    "The other approach is that we look at the PCA coefficients. These coefficients tell us how much of the original variables are used in creating the PCs. The higher the coefficient, the more important is the related variable."
   ]
  },
  {
   "cell_type": "markdown",
   "metadata": {},
   "source": [
    "Let's put the component (PCA coefficients) into a data frame to see more comfortably:"
   ]
  },
  {
   "cell_type": "code",
   "execution_count": 17,
   "metadata": {},
   "outputs": [
    {
     "data": {
      "text/html": [
       "<div>\n",
       "<style scoped>\n",
       "    .dataframe tbody tr th:only-of-type {\n",
       "        vertical-align: middle;\n",
       "    }\n",
       "\n",
       "    .dataframe tbody tr th {\n",
       "        vertical-align: top;\n",
       "    }\n",
       "\n",
       "    .dataframe thead th {\n",
       "        text-align: right;\n",
       "    }\n",
       "</style>\n",
       "<table border=\"1\" class=\"dataframe\">\n",
       "  <thead>\n",
       "    <tr style=\"text-align: right;\">\n",
       "      <th></th>\n",
       "      <th>0</th>\n",
       "      <th>1</th>\n",
       "      <th>2</th>\n",
       "      <th>3</th>\n",
       "      <th>4</th>\n",
       "      <th>5</th>\n",
       "      <th>6</th>\n",
       "      <th>7</th>\n",
       "      <th>8</th>\n",
       "      <th>9</th>\n",
       "      <th>10</th>\n",
       "    </tr>\n",
       "  </thead>\n",
       "  <tbody>\n",
       "    <tr>\n",
       "      <th>0</th>\n",
       "      <td>0.489314</td>\n",
       "      <td>-0.238584</td>\n",
       "      <td>0.463632</td>\n",
       "      <td>0.146107</td>\n",
       "      <td>0.212247</td>\n",
       "      <td>-0.036158</td>\n",
       "      <td>0.023575</td>\n",
       "      <td>0.395353</td>\n",
       "      <td>-0.438520</td>\n",
       "      <td>0.242921</td>\n",
       "      <td>-0.113232</td>\n",
       "    </tr>\n",
       "    <tr>\n",
       "      <th>1</th>\n",
       "      <td>-0.110503</td>\n",
       "      <td>0.274930</td>\n",
       "      <td>-0.151791</td>\n",
       "      <td>0.272080</td>\n",
       "      <td>0.148052</td>\n",
       "      <td>0.513567</td>\n",
       "      <td>0.569487</td>\n",
       "      <td>0.233575</td>\n",
       "      <td>0.006711</td>\n",
       "      <td>-0.037554</td>\n",
       "      <td>-0.386181</td>\n",
       "    </tr>\n",
       "    <tr>\n",
       "      <th>2</th>\n",
       "      <td>-0.123302</td>\n",
       "      <td>-0.449963</td>\n",
       "      <td>0.238247</td>\n",
       "      <td>0.101283</td>\n",
       "      <td>-0.092614</td>\n",
       "      <td>0.428793</td>\n",
       "      <td>0.322415</td>\n",
       "      <td>-0.338871</td>\n",
       "      <td>0.057697</td>\n",
       "      <td>0.279786</td>\n",
       "      <td>0.471673</td>\n",
       "    </tr>\n",
       "    <tr>\n",
       "      <th>3</th>\n",
       "      <td>-0.229617</td>\n",
       "      <td>0.078960</td>\n",
       "      <td>-0.079418</td>\n",
       "      <td>-0.372793</td>\n",
       "      <td>0.666195</td>\n",
       "      <td>-0.043538</td>\n",
       "      <td>-0.034577</td>\n",
       "      <td>-0.174500</td>\n",
       "      <td>-0.003788</td>\n",
       "      <td>0.550872</td>\n",
       "      <td>-0.122181</td>\n",
       "    </tr>\n",
       "    <tr>\n",
       "      <th>4</th>\n",
       "      <td>-0.082614</td>\n",
       "      <td>0.218735</td>\n",
       "      <td>-0.058573</td>\n",
       "      <td>0.732144</td>\n",
       "      <td>0.246501</td>\n",
       "      <td>-0.159152</td>\n",
       "      <td>-0.222465</td>\n",
       "      <td>0.157077</td>\n",
       "      <td>0.267530</td>\n",
       "      <td>0.225962</td>\n",
       "      <td>0.350681</td>\n",
       "    </tr>\n",
       "    <tr>\n",
       "      <th>5</th>\n",
       "      <td>0.101479</td>\n",
       "      <td>0.411449</td>\n",
       "      <td>0.069593</td>\n",
       "      <td>0.049156</td>\n",
       "      <td>0.304339</td>\n",
       "      <td>-0.014000</td>\n",
       "      <td>0.136308</td>\n",
       "      <td>-0.391152</td>\n",
       "      <td>-0.522116</td>\n",
       "      <td>-0.381263</td>\n",
       "      <td>0.361645</td>\n",
       "    </tr>\n",
       "    <tr>\n",
       "      <th>6</th>\n",
       "      <td>-0.350227</td>\n",
       "      <td>-0.533735</td>\n",
       "      <td>0.105497</td>\n",
       "      <td>0.290663</td>\n",
       "      <td>0.370413</td>\n",
       "      <td>-0.116596</td>\n",
       "      <td>-0.093662</td>\n",
       "      <td>-0.170481</td>\n",
       "      <td>-0.025138</td>\n",
       "      <td>-0.447469</td>\n",
       "      <td>-0.327651</td>\n",
       "    </tr>\n",
       "    <tr>\n",
       "      <th>7</th>\n",
       "      <td>-0.177595</td>\n",
       "      <td>-0.078775</td>\n",
       "      <td>-0.377516</td>\n",
       "      <td>0.299845</td>\n",
       "      <td>-0.357009</td>\n",
       "      <td>-0.204781</td>\n",
       "      <td>0.019036</td>\n",
       "      <td>-0.239223</td>\n",
       "      <td>-0.561391</td>\n",
       "      <td>0.374604</td>\n",
       "      <td>-0.217626</td>\n",
       "    </tr>\n",
       "    <tr>\n",
       "      <th>8</th>\n",
       "      <td>-0.194021</td>\n",
       "      <td>0.129110</td>\n",
       "      <td>0.381450</td>\n",
       "      <td>-0.007523</td>\n",
       "      <td>-0.111339</td>\n",
       "      <td>-0.635405</td>\n",
       "      <td>0.592116</td>\n",
       "      <td>-0.020719</td>\n",
       "      <td>0.167746</td>\n",
       "      <td>0.058367</td>\n",
       "      <td>-0.037603</td>\n",
       "    </tr>\n",
       "    <tr>\n",
       "      <th>9</th>\n",
       "      <td>-0.249523</td>\n",
       "      <td>0.365925</td>\n",
       "      <td>0.621677</td>\n",
       "      <td>0.092872</td>\n",
       "      <td>-0.217671</td>\n",
       "      <td>0.248483</td>\n",
       "      <td>-0.370750</td>\n",
       "      <td>-0.239990</td>\n",
       "      <td>-0.010970</td>\n",
       "      <td>0.112320</td>\n",
       "      <td>-0.303015</td>\n",
       "    </tr>\n",
       "    <tr>\n",
       "      <th>10</th>\n",
       "      <td>0.639691</td>\n",
       "      <td>0.002389</td>\n",
       "      <td>-0.070910</td>\n",
       "      <td>0.184030</td>\n",
       "      <td>0.053065</td>\n",
       "      <td>-0.051421</td>\n",
       "      <td>0.068702</td>\n",
       "      <td>-0.567332</td>\n",
       "      <td>0.340711</td>\n",
       "      <td>0.069555</td>\n",
       "      <td>-0.314526</td>\n",
       "    </tr>\n",
       "  </tbody>\n",
       "</table>\n",
       "</div>"
      ],
      "text/plain": [
       "          0         1         2         3         4         5         6   \\\n",
       "0   0.489314 -0.238584  0.463632  0.146107  0.212247 -0.036158  0.023575   \n",
       "1  -0.110503  0.274930 -0.151791  0.272080  0.148052  0.513567  0.569487   \n",
       "2  -0.123302 -0.449963  0.238247  0.101283 -0.092614  0.428793  0.322415   \n",
       "3  -0.229617  0.078960 -0.079418 -0.372793  0.666195 -0.043538 -0.034577   \n",
       "4  -0.082614  0.218735 -0.058573  0.732144  0.246501 -0.159152 -0.222465   \n",
       "5   0.101479  0.411449  0.069593  0.049156  0.304339 -0.014000  0.136308   \n",
       "6  -0.350227 -0.533735  0.105497  0.290663  0.370413 -0.116596 -0.093662   \n",
       "7  -0.177595 -0.078775 -0.377516  0.299845 -0.357009 -0.204781  0.019036   \n",
       "8  -0.194021  0.129110  0.381450 -0.007523 -0.111339 -0.635405  0.592116   \n",
       "9  -0.249523  0.365925  0.621677  0.092872 -0.217671  0.248483 -0.370750   \n",
       "10  0.639691  0.002389 -0.070910  0.184030  0.053065 -0.051421  0.068702   \n",
       "\n",
       "          7         8         9         10  \n",
       "0   0.395353 -0.438520  0.242921 -0.113232  \n",
       "1   0.233575  0.006711 -0.037554 -0.386181  \n",
       "2  -0.338871  0.057697  0.279786  0.471673  \n",
       "3  -0.174500 -0.003788  0.550872 -0.122181  \n",
       "4   0.157077  0.267530  0.225962  0.350681  \n",
       "5  -0.391152 -0.522116 -0.381263  0.361645  \n",
       "6  -0.170481 -0.025138 -0.447469 -0.327651  \n",
       "7  -0.239223 -0.561391  0.374604 -0.217626  \n",
       "8  -0.020719  0.167746  0.058367 -0.037603  \n",
       "9  -0.239990 -0.010970  0.112320 -0.303015  \n",
       "10 -0.567332  0.340711  0.069555 -0.314526  "
      ]
     },
     "execution_count": 17,
     "metadata": {},
     "output_type": "execute_result"
    }
   ],
   "source": [
    "pd.DataFrame(results.components_)"
   ]
  },
  {
   "cell_type": "markdown",
   "metadata": {},
   "source": [
    "The above is the _coefficient matrix_. The first row is the coefficients that generated the first PC. In other words, the first PC was generated using the following formula:\n",
    "\n",
    "PC1 = (fixed acidity * 0.489314) + (volatile acidity * -0.238584) + ... + (alcohol * -0.113232) "
   ]
  },
  {
   "cell_type": "markdown",
   "metadata": {},
   "source": [
    "If we choose to use the first 6 PCs, what do we call them? This is a bit tricky, because they are wieghted combinations of the original variables. Thus, a wine expert may help us to name them. Let's assume that the expert gave us the following names for the new (latent) variables: 1.Acidity, 2.Sulfides, 3.More alcohol, 4.Chlorides, 5.More residual sugar, 6. Less pH"
   ]
  },
  {
   "cell_type": "code",
   "execution_count": 18,
   "metadata": {},
   "outputs": [
    {
     "data": {
      "text/html": [
       "<div>\n",
       "<style scoped>\n",
       "    .dataframe tbody tr th:only-of-type {\n",
       "        vertical-align: middle;\n",
       "    }\n",
       "\n",
       "    .dataframe tbody tr th {\n",
       "        vertical-align: top;\n",
       "    }\n",
       "\n",
       "    .dataframe thead th {\n",
       "        text-align: right;\n",
       "    }\n",
       "</style>\n",
       "<table border=\"1\" class=\"dataframe\">\n",
       "  <thead>\n",
       "    <tr style=\"text-align: right;\">\n",
       "      <th></th>\n",
       "      <th>Acidity</th>\n",
       "      <th>Sulfides</th>\n",
       "      <th>More alcohol</th>\n",
       "      <th>Chlorides</th>\n",
       "      <th>More residual sugar</th>\n",
       "      <th>Less pH</th>\n",
       "    </tr>\n",
       "  </thead>\n",
       "  <tbody>\n",
       "    <tr>\n",
       "      <th>0</th>\n",
       "      <td>-1.619530</td>\n",
       "      <td>0.450950</td>\n",
       "      <td>-1.774454</td>\n",
       "      <td>0.043740</td>\n",
       "      <td>0.067014</td>\n",
       "      <td>-0.913921</td>\n",
       "    </tr>\n",
       "    <tr>\n",
       "      <th>1</th>\n",
       "      <td>-0.799170</td>\n",
       "      <td>1.856553</td>\n",
       "      <td>-0.911690</td>\n",
       "      <td>0.548066</td>\n",
       "      <td>-0.018392</td>\n",
       "      <td>0.929714</td>\n",
       "    </tr>\n",
       "    <tr>\n",
       "      <th>2</th>\n",
       "      <td>-0.748479</td>\n",
       "      <td>0.882039</td>\n",
       "      <td>-1.171394</td>\n",
       "      <td>0.411021</td>\n",
       "      <td>-0.043531</td>\n",
       "      <td>0.401473</td>\n",
       "    </tr>\n",
       "    <tr>\n",
       "      <th>3</th>\n",
       "      <td>2.357673</td>\n",
       "      <td>-0.269976</td>\n",
       "      <td>0.243489</td>\n",
       "      <td>-0.928450</td>\n",
       "      <td>-1.499149</td>\n",
       "      <td>-0.131017</td>\n",
       "    </tr>\n",
       "    <tr>\n",
       "      <th>4</th>\n",
       "      <td>-1.619530</td>\n",
       "      <td>0.450950</td>\n",
       "      <td>-1.774454</td>\n",
       "      <td>0.043740</td>\n",
       "      <td>0.067014</td>\n",
       "      <td>-0.913921</td>\n",
       "    </tr>\n",
       "    <tr>\n",
       "      <th>5</th>\n",
       "      <td>-1.583707</td>\n",
       "      <td>0.569195</td>\n",
       "      <td>-1.538286</td>\n",
       "      <td>0.023750</td>\n",
       "      <td>-0.110076</td>\n",
       "      <td>-0.993626</td>\n",
       "    </tr>\n",
       "    <tr>\n",
       "      <th>6</th>\n",
       "      <td>-1.101464</td>\n",
       "      <td>0.608015</td>\n",
       "      <td>-1.075915</td>\n",
       "      <td>-0.343959</td>\n",
       "      <td>-1.133382</td>\n",
       "      <td>0.175000</td>\n",
       "    </tr>\n",
       "    <tr>\n",
       "      <th>7</th>\n",
       "      <td>-2.248708</td>\n",
       "      <td>-0.416835</td>\n",
       "      <td>-0.986837</td>\n",
       "      <td>-0.001203</td>\n",
       "      <td>-0.780435</td>\n",
       "      <td>0.286057</td>\n",
       "    </tr>\n",
       "    <tr>\n",
       "      <th>8</th>\n",
       "      <td>-1.086887</td>\n",
       "      <td>-0.308569</td>\n",
       "      <td>-1.518150</td>\n",
       "      <td>0.003315</td>\n",
       "      <td>-0.226727</td>\n",
       "      <td>-0.512634</td>\n",
       "    </tr>\n",
       "    <tr>\n",
       "      <th>9</th>\n",
       "      <td>0.654790</td>\n",
       "      <td>1.665207</td>\n",
       "      <td>1.209476</td>\n",
       "      <td>-0.824635</td>\n",
       "      <td>1.718501</td>\n",
       "      <td>-0.476497</td>\n",
       "    </tr>\n",
       "  </tbody>\n",
       "</table>\n",
       "</div>"
      ],
      "text/plain": [
       "    Acidity  Sulfides  More alcohol  Chlorides  More residual sugar   Less pH\n",
       "0 -1.619530  0.450950     -1.774454   0.043740             0.067014 -0.913921\n",
       "1 -0.799170  1.856553     -0.911690   0.548066            -0.018392  0.929714\n",
       "2 -0.748479  0.882039     -1.171394   0.411021            -0.043531  0.401473\n",
       "3  2.357673 -0.269976      0.243489  -0.928450            -1.499149 -0.131017\n",
       "4 -1.619530  0.450950     -1.774454   0.043740             0.067014 -0.913921\n",
       "5 -1.583707  0.569195     -1.538286   0.023750            -0.110076 -0.993626\n",
       "6 -1.101464  0.608015     -1.075915  -0.343959            -1.133382  0.175000\n",
       "7 -2.248708 -0.416835     -0.986837  -0.001203            -0.780435  0.286057\n",
       "8 -1.086887 -0.308569     -1.518150   0.003315            -0.226727 -0.512634\n",
       "9  0.654790  1.665207      1.209476  -0.824635             1.718501 -0.476497"
      ]
     },
     "execution_count": 18,
     "metadata": {},
     "output_type": "execute_result"
    }
   ],
   "source": [
    "pd.DataFrame(Z[:,:6], columns=list(\n",
    "[u'Acidity', u'Sulfides', u'More alcohol', u'Chlorides', u'More residual sugar', u'Less pH'])).head(10)"
   ]
  },
  {
   "cell_type": "markdown",
   "metadata": {},
   "source": [
    "__Usually, naming the new variables is dangerous unless we confidently conclude that the latent variables represent known properties. This requires expert knowledge.__"
   ]
  },
  {
   "cell_type": "markdown",
   "metadata": {},
   "source": [
    "### 4b. Model selection - predictive model"
   ]
  },
  {
   "cell_type": "markdown",
   "metadata": {},
   "source": [
    "We can compare the prediction powers of the original variables and latent variables. Since the target is a categorical variable, we will perform a classification operation. We will use KNN for this purpose."
   ]
  },
  {
   "cell_type": "markdown",
   "metadata": {},
   "source": [
    "__1. Using the original data set__"
   ]
  },
  {
   "cell_type": "code",
   "execution_count": 27,
   "metadata": {},
   "outputs": [
    {
     "name": "stdout",
     "output_type": "stream",
     "text": [
      "Confusion matrix:\n",
      "[[  6   5   2   0   0   0]\n",
      " [  0  18  10  13   0   0]\n",
      " [  2  17 589  87  18   2]\n",
      " [  2  12  75 511  36   7]\n",
      " [  0   1   4  27 144   7]\n",
      " [  0   0   1   0   1   2]]\n",
      "\n",
      "Accuracy:\n",
      "0.7942464040025016\n"
     ]
    }
   ],
   "source": [
    "from sklearn.neighbors import KNeighborsClassifier\n",
    "from sklearn.metrics import confusion_matrix, accuracy_score\n",
    "\n",
    "neigh = KNeighborsClassifier(n_neighbors=3)\n",
    "neigh.fit(X,y)\n",
    "pred = neigh.predict(X)\n",
    "print('Confusion matrix:')\n",
    "print(confusion_matrix(pred,y))\n",
    "print('\\nAccuracy:')\n",
    "print(accuracy_score(pred,y))"
   ]
  },
  {
   "cell_type": "markdown",
   "metadata": {},
   "source": [
    "__2. Using the first 6 PCs__"
   ]
  },
  {
   "cell_type": "code",
   "execution_count": 29,
   "metadata": {},
   "outputs": [
    {
     "name": "stdout",
     "output_type": "stream",
     "text": [
      "Confusion matrix:\n",
      "[[  7   4   5   1   0   0]\n",
      " [  0  18  11  11   3   0]\n",
      " [  2  16 584  92  26   4]\n",
      " [  1  14  75 507  37   6]\n",
      " [  0   1   6  27 132   5]\n",
      " [  0   0   0   0   1   3]]\n",
      "\n",
      "Accuracy:\n",
      "0.7823639774859287\n"
     ]
    }
   ],
   "source": [
    "neigh = KNeighborsClassifier(n_neighbors=3)\n",
    "neigh.fit(Z[:,:6],y)\n",
    "pred = neigh.predict(Z[:,:6])\n",
    "print('Confusion matrix:')\n",
    "print(confusion_matrix(pred,y))\n",
    "print('\\nAccuracy:')\n",
    "print(accuracy_score(pred,y))"
   ]
  },
  {
   "cell_type": "markdown",
   "metadata": {},
   "source": [
    "Using 6 variables instead of 11, we achive almost the same accuracy in our prediction.\n",
    "\n",
    "Note: Here, we used the training set for prediction. Ideally, we would want to use two separate sets for training the model and testing it."
   ]
  },
  {
   "cell_type": "markdown",
   "metadata": {},
   "source": [
    "### Resources:"
   ]
  },
  {
   "cell_type": "markdown",
   "metadata": {},
   "source": [
    "* D. Cielen, A. Meysman, M. Ali, Introducing Data Science: Big Data Machine Learning and more using Python tools, Manning Publications.\n",
    "* Scikit-learn: Machine Learning in Python, Pedregosa et al., JMLR 12, pp. 2825-2830, 2011.\n",
    "* P. Cortez, A. Cerdeira, F. Almeida, T. Matos and J. Reis. Modeling wine preferences by data mining from physicochemical properties. In Decision Support Systems, Elsevier, 47(4):547-553, 2009."
   ]
  }
 ],
 "metadata": {
  "kernelspec": {
   "display_name": "Python 3",
   "language": "python",
   "name": "python3"
  },
  "language_info": {
   "codemirror_mode": {
    "name": "ipython",
    "version": 3
   },
   "file_extension": ".py",
   "mimetype": "text/x-python",
   "name": "python",
   "nbconvert_exporter": "python",
   "pygments_lexer": "ipython3",
   "version": "3.7.3"
  }
 },
 "nbformat": 4,
 "nbformat_minor": 4
}
